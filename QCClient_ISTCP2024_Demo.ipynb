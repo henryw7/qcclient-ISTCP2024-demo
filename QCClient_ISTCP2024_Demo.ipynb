{
 "cells": [
  {
   "cell_type": "markdown",
   "id": "dee27494-5005-48c2-a3eb-96d1ea721177",
   "metadata": {},
   "source": [
    "This notebook demonstrates quantum chemistry calculations on ByteDance Cloud (火山引擎). The service is currently for demonstration only. \n",
    "\n",
    "> ⚠️ **Warning**:\n",
    "- The storage is public. DO NOT upload your confidential data for testing.\n",
    "- Each user is limited to run 100 GPU hours."
   ]
  },
  {
   "cell_type": "code",
   "execution_count": 1,
   "id": "0d24f8e3-4e4e-4740-9c6d-834deed0757a",
   "metadata": {},
   "outputs": [
    {
     "name": "stdout",
     "output_type": "stream",
     "text": [
      "Defaulting to user installation because normal site-packages is not writeable\n",
      "Requirement already satisfied: qcclient-ISTCP2024 in /home/henryw7/.local/lib/python3.10/site-packages (0.6.0)\n",
      "Requirement already satisfied: boto3 in /home/henryw7/.local/lib/python3.10/site-packages (from qcclient-ISTCP2024) (1.35.37)\n",
      "Requirement already satisfied: jmespath<2.0.0,>=0.7.1 in /home/henryw7/.local/lib/python3.10/site-packages (from boto3->qcclient-ISTCP2024) (1.0.1)\n",
      "Requirement already satisfied: s3transfer<0.11.0,>=0.10.0 in /home/henryw7/.local/lib/python3.10/site-packages (from boto3->qcclient-ISTCP2024) (0.10.3)\n",
      "Requirement already satisfied: botocore<1.36.0,>=1.35.37 in /home/henryw7/.local/lib/python3.10/site-packages (from boto3->qcclient-ISTCP2024) (1.35.37)\n",
      "Requirement already satisfied: python-dateutil<3.0.0,>=2.1 in /home/henryw7/.local/lib/python3.10/site-packages (from botocore<1.36.0,>=1.35.37->boto3->qcclient-ISTCP2024) (2.9.0.post0)\n",
      "Requirement already satisfied: urllib3!=2.2.0,<3,>=1.25.4 in /home/henryw7/.local/lib/python3.10/site-packages (from botocore<1.36.0,>=1.35.37->boto3->qcclient-ISTCP2024) (2.2.3)\n",
      "Requirement already satisfied: six>=1.5 in /usr/lib/python3/dist-packages (from python-dateutil<3.0.0,>=2.1->botocore<1.36.0,>=1.35.37->boto3->qcclient-ISTCP2024) (1.16.0)\n"
     ]
    }
   ],
   "source": [
    "!pip3 install qcclient-ISTCP2024 --upgrade"
   ]
  },
  {
   "cell_type": "markdown",
   "id": "f59db8b2-e816-46a2-8ed1-9597e1dbb7c4",
   "metadata": {},
   "source": [
    "# A simple example\n",
    "## Prepare quantum chemistry tasks for a single job submission"
   ]
  },
  {
   "cell_type": "markdown",
   "id": "feaeb8e9-0323-4d38-9b51-9a3c5b539ea9",
   "metadata": {},
   "source": [
    "Only two types of jobs are supported at this point\n",
    "* Single-point energy calculation (sp), including force and Hessian calculations\n",
    "* Geometry optimization (opt), w/ or w/o constraints."
   ]
  },
  {
   "cell_type": "code",
   "execution_count": 2,
   "id": "0a1cc528-9777-4acb-b627-3d58124fbc1a",
   "metadata": {},
   "outputs": [],
   "source": [
    "from qcclient import QCJob, QCConfig\n",
    "\n",
    "# Dataset in Bohrium. It can be replaced with local directories.\n",
    "input_dir = \"./dataset/h2o/\"\n",
    "molecules = [\"h2o.xyz\"]\n",
    "job = QCJob(\n",
    "    config=QCConfig(qc_job_type=\"sp\"),    # customize config for different quantum chemistry protocols\n",
    "    input_dir=input_dir, \n",
    "    name='ISTCP2024-demo1', \n",
    "    molecules=molecules)"
   ]
  },
  {
   "cell_type": "markdown",
   "id": "ca8e2522-85e0-409c-ad15-8c289c903afa",
   "metadata": {},
   "source": [
    "One can update the dict for different quantum chemistry protocals. Please refer to https://github.com/pyscf/gpu4pyscf/blob/master/gpu4pyscf/drivers/dft_driver.py\n",
    "\n",
    "By default, the calculation will be executed with the following configuration\n",
    "```json\n",
    "config = {\n",
    "    'xc': 'b3lyp',\n",
    "    'basis': 'def2-tzvpp',\n",
    "    'with_df': True,\n",
    "    'with_grad': True,\n",
    "    'with_hess': True\n",
    "}\n",
    "```\n",
    "\n",
    "For geometry optimization tasks, please refer to https://github.com/pyscf/gpu4pyscf/blob/master/gpu4pyscf/drivers/opt_driver.py"
   ]
  },
  {
   "cell_type": "markdown",
   "id": "a429a72d-5180-4152-9860-44138fd9cb89",
   "metadata": {},
   "source": [
    "## Submit the job"
   ]
  },
  {
   "cell_type": "code",
   "execution_count": 3,
   "id": "e7a457bd-59d1-43d4-9b9d-1a873dced54d",
   "metadata": {},
   "outputs": [
    {
     "name": "stdout",
     "output_type": "stream",
     "text": [
      "job_id=178\n"
     ]
    }
   ],
   "source": [
    "job.submit(check=False)\n",
    "print(f\"job_id={job.job_id}\")"
   ]
  },
  {
   "cell_type": "markdown",
   "id": "b06e9fa9-7e02-40f2-a496-324939456e27",
   "metadata": {},
   "source": [
    "## Download results\n",
    "For each task, three files are saved in one folder\n",
    "* '*_pyscf.log': PySCF log file, increase 'verbose' in config for more information.\n",
    "* '*_serverless.log': Scheduler stdout log file.\n",
    "* '*_pyscf.h5': Main calculated results"
   ]
  },
  {
   "cell_type": "code",
   "execution_count": 4,
   "id": "56346abc-40e3-43b1-93ee-b06483251d14",
   "metadata": {},
   "outputs": [],
   "source": [
    "# Download the results to the current directory\n",
    "result_dir = './ISTCP2024_demo1/'\n",
    "job.pull_output(local_dir=result_dir)          # Downloads begin only when all tasks are completed.\n",
    "output_dir = f'{result_dir}/jobs/{job.label}/output'"
   ]
  },
  {
   "cell_type": "code",
   "execution_count": 5,
   "id": "d74a3e05-2720-472d-980c-87244c70f62f",
   "metadata": {},
   "outputs": [
    {
     "name": "stdout",
     "output_type": "stream",
     "text": [
      "Defaulting to user installation because normal site-packages is not writeable\n",
      "Requirement already satisfied: h5py in /home/henryw7/.local/lib/python3.10/site-packages (3.11.0)\n",
      "Requirement already satisfied: numpy>=1.17.3 in /home/henryw7/.local/lib/python3.10/site-packages (from h5py) (2.1.1)\n"
     ]
    }
   ],
   "source": [
    "! pip3 install h5py"
   ]
  },
  {
   "cell_type": "markdown",
   "id": "a797ef94-19c6-4cd2-b4c9-67bc59ca9d42",
   "metadata": {},
   "source": [
    "## Display the results"
   ]
  },
  {
   "cell_type": "code",
   "execution_count": 6,
   "id": "1f1c207b-2bc3-49ed-94ab-521c439fab53",
   "metadata": {},
   "outputs": [
    {
     "name": "stdout",
     "output_type": "stream",
     "text": [
      "Total energy (Hartree):\n",
      "-76.46325514905227\n",
      "Gradient (Hartree/Bohr):\n",
      "[[ 0.02786414  0.0035512  -0.00024171]\n",
      " [-0.01029678 -0.03530189 -0.00730281]\n",
      " [-0.01756746  0.0317507   0.00754458]]\n",
      "Hessian (Hartree/Bohr^2):\n",
      "[[ 0.35683067 -0.01974901 -0.01634353 -0.14333742 -0.1170398  -0.02071004\n",
      "  -0.21349825  0.13678693  0.03705455]\n",
      " [-0.01974901  0.53015597  0.11041693 -0.16964706 -0.30022937 -0.05629708\n",
      "   0.18939427 -0.22989969 -0.05411732]\n",
      " [-0.01634353  0.11041692  0.05032282 -0.03215121 -0.05821166 -0.02447275\n",
      "   0.04849574 -0.05220274 -0.02587659]\n",
      " [-0.14333742 -0.16964706 -0.03215121  0.13273228  0.13988639  0.02623775\n",
      "   0.01060534  0.02976036  0.0059132 ]\n",
      " [-0.1170398  -0.30022937 -0.05821166  0.13988641  0.31973689  0.0605879\n",
      "  -0.02284692 -0.01950784 -0.00237615]\n",
      " [-0.02071004 -0.05629708 -0.02447275  0.02623775  0.06058789  0.02996484\n",
      "  -0.00552798 -0.00429074 -0.00549091]\n",
      " [-0.21349825  0.18939427  0.04849574  0.01060534 -0.02284692 -0.00552798\n",
      "   0.2028935  -0.16654708 -0.0429676 ]\n",
      " [ 0.13678693 -0.22989969 -0.05220274  0.02976036 -0.01950784 -0.00429074\n",
      "  -0.1665471   0.24940701  0.05649329]\n",
      " [ 0.03705455 -0.05411732 -0.02587659  0.0059132  -0.00237615 -0.00549091\n",
      "  -0.0429676   0.05649328  0.03136801]]\n"
     ]
    }
   ],
   "source": [
    "import h5py\n",
    "with h5py.File(output_dir+'/h2o/h2o_pyscf.h5', 'r') as file:\n",
    "    # Get the dataset\n",
    "    print(f'Total energy (Hartree):')\n",
    "    print(file['e_tot'][()])\n",
    "    print(f'Gradient (Hartree/Bohr):')\n",
    "    print(file['grad'][()])\n",
    "    print(f'Hessian (Hartree/Bohr^2):')\n",
    "    print(file['hess'][()])\n",
    "    "
   ]
  },
  {
   "cell_type": "markdown",
   "id": "473f9988-d10a-4329-9544-e1b535ec50a5",
   "metadata": {},
   "source": [
    "# An example for geometry optimization"
   ]
  },
  {
   "cell_type": "code",
   "execution_count": 7,
   "id": "dc2cbc86-0dc1-41f4-a6e6-801c12f90142",
   "metadata": {},
   "outputs": [
    {
     "name": "stdout",
     "output_type": "stream",
     "text": [
      "job_id=181\n"
     ]
    }
   ],
   "source": [
    "from qcclient import QCJob, QCConfig\n",
    "\n",
    "# Dataset in Bohrium. It can be replaced with local directories.\n",
    "input_dir = \"./dataset/h2o\"\n",
    "molecules = [\"h2o.xyz\"]\n",
    "job = QCJob(\n",
    "    config=QCConfig(qc_job_type=\"opt\"),\n",
    "    input_dir=input_dir, \n",
    "    name='ISTCP2024-demo2',\n",
    "    molecules=molecules)\n",
    "job.submit(check=False)\n",
    "print(f\"job_id={job.job_id}\")"
   ]
  },
  {
   "cell_type": "markdown",
   "id": "71f01747-ee30-48f5-906c-42fa4139deae",
   "metadata": {},
   "source": [
    "## Download results for an optimization job\n",
    "If the optimization succeed, six files are saved in one folder:\n",
    "* '*_geometric.log': Geometric log file, recording the optimization process.\n",
    "* '*_hist.h5': Geometry, energy and gradient for each optimization step.\n",
    "* '*_opt.xyz': Optimized geometry.\n",
    "* '*_pyscf.log': PySCF log file, increase 'verbose' in config for more information.\n",
    "* '*_serverless.log': Scheduler stdout log file.\n",
    "* '*_success.txt': An indicator of a successful optimization. This file is missing if the optimization did not converge."
   ]
  },
  {
   "cell_type": "code",
   "execution_count": 8,
   "id": "c33a2e93-247e-4a83-9d34-ce1e4dccefba",
   "metadata": {},
   "outputs": [],
   "source": [
    "result_dir = './ISTCP2024_demo2/'\n",
    "job.pull_output(local_dir=result_dir)\n",
    "output_dir = f'{result_dir}/jobs/{job.label}/output'"
   ]
  },
  {
   "cell_type": "code",
   "execution_count": 9,
   "id": "795a2527-038e-4499-abc2-65a8814946f0",
   "metadata": {},
   "outputs": [
    {
     "name": "stdout",
     "output_type": "stream",
     "text": [
      "step_0 energy (Hartree): -76.46325514905222\n",
      "step_0 geometry (Angstrom): [[ 99.814  100.835  101.232 ]\n",
      " [ 99.3292  99.9768 101.063 ]\n",
      " [ 99.1516 101.561  101.414 ]]\n",
      "step_1 energy (Hartree): -76.46666473485362\n",
      "step_1 geometry (Angstrom): [[ 99.82412523 100.83596779 101.2318411 ]\n",
      " [ 99.31751181 100.0360753  101.07631598]\n",
      " [ 99.15316595 101.50075681 101.40084064]]\n",
      "step_2 energy (Hartree): -76.4667050274951\n",
      "step_2 geometry (Angstrom): [[ 99.81988833 100.83548285 101.23188942]\n",
      " [ 99.32041379 100.02934312 101.07474571]\n",
      " [ 99.15451082 101.50796979 101.40236032]]\n",
      "step_3 energy (Hartree): -76.46670559930976\n",
      "step_3 geometry (Angstrom): [[ 99.81937333 100.8354206  101.23189386]\n",
      " [ 99.32066981 100.02942946 101.07475435]\n",
      " [ 99.15478007 101.50794212 101.4023442 ]]\n"
     ]
    }
   ],
   "source": [
    "import os, h5py\n",
    "bohr2angstrom = 0.529177210903\n",
    "\n",
    "# Print optimization trajectory\n",
    "molecule = molecules[0][:-4] # Remove .xyz\n",
    "h5file = os.path.join(output_dir, f'{molecule}/{molecule}_hist.h5')\n",
    "with h5py.File(h5file, 'r') as h5_file:\n",
    "    for step in h5_file.keys():\n",
    "        if step.startswith(\"step\"):\n",
    "            print(step + \" energy (Hartree): \" + str(h5_file[step][\"energy\"][()]))\n",
    "            print(step + \" geometry (Angstrom): \" + str(h5_file[step][\"coords\"][()] * bohr2angstrom))"
   ]
  },
  {
   "cell_type": "markdown",
   "id": "1429f63d-4385-477e-93eb-2bcaecc37542",
   "metadata": {},
   "source": [
    "# A more realistic example\n",
    "We use this example reproducing the result in https://arxiv.org/abs/2404.09452"
   ]
  },
  {
   "cell_type": "code",
   "execution_count": 10,
   "id": "ccfc6734-9c90-4c63-8369-5eb5ea75d823",
   "metadata": {},
   "outputs": [
    {
     "name": "stdout",
     "output_type": "stream",
     "text": [
      "job_id=182\n"
     ]
    }
   ],
   "source": [
    "from qcclient import QCJob, QCConfig\n",
    "\n",
    "# Dataset in Bohrium. It can be replaced with local directories.\n",
    "input_dir = \"./dataset/organic\"\n",
    "config = QCConfig(qc_job_type=\"sp\")\n",
    "config['with_hess'] = False # turn off hessian calculation for fast demo\n",
    "job = QCJob(\n",
    "    config=config,\n",
    "    input_dir=input_dir, \n",
    "    name='ISTCP2024-demo3')\n",
    "job.submit(check=False)\n",
    "print(f\"job_id={job.job_id}\")\n"
   ]
  },
  {
   "cell_type": "markdown",
   "id": "2fb6fb42-0681-4e1f-995e-ef3175b7d894",
   "metadata": {},
   "source": [
    "## Check job status"
   ]
  },
  {
   "cell_type": "code",
   "execution_count": 13,
   "id": "2ca1dea1-15c7-492c-a435-8b1fc39eb551",
   "metadata": {},
   "outputs": [
    {
     "name": "stdout",
     "output_type": "stream",
     "text": [
      "Status of the job, including all tasks: running\n",
      "\n",
      "Status of each task (each molecule):\n",
      "| status     | count |\n",
      "----------------------\n",
      "| pending    |     5 |\n",
      "| running    |     2 |\n",
      "| succeed    |     6 |\n",
      "\n"
     ]
    }
   ],
   "source": [
    "# Check the status of the job.\n",
    "# This code cell is non-blocking and you can run this cell repeatedly.\n",
    "# The next code cell will block until all computation finishes.\n",
    "\n",
    "print(\"Status of the job, including all tasks: \" + job.client.get_job_status(job.job_id))\n",
    "print()\n",
    "\n",
    "task_summary = job.client.get_job_summary(job.job_id)\n",
    "if task_summary is not None:\n",
    "    print(\"Status of each task (each molecule):\")\n",
    "    print(\"| status     | count |\\n----------------------\")\n",
    "    for status in task_summary:\n",
    "        print(f\"| {status:10s} | {task_summary[status]:5d} |\")\n",
    "    print()\n"
   ]
  },
  {
   "cell_type": "markdown",
   "id": "3404924d-f5ce-4c34-a009-d5bbd93bdbe8",
   "metadata": {},
   "source": [
    "One of the tasks in the above job is intended to be failed."
   ]
  },
  {
   "cell_type": "code",
   "execution_count": 14,
   "id": "976c0a16-9b4c-4380-8a32-3d93a8d49447",
   "metadata": {},
   "outputs": [
    {
     "name": "stderr",
     "output_type": "stream",
     "text": [
      "Job status is not 'succeed': failed\n"
     ]
    }
   ],
   "source": [
    "result_dir = './ISTCP2024_demo3/'\n",
    "job.pull_output(local_dir=result_dir)                # This will take a while.\n",
    "output_dir = f'{result_dir}/jobs/{job.label}/output'"
   ]
  },
  {
   "cell_type": "markdown",
   "id": "71d13690-0b5f-4082-9bd6-875f5e7eabf2",
   "metadata": {},
   "source": [
    "## Performance benchmark\n",
    "\n",
    "Here we show the performance benchmark of DFT energy and gradient calculations on molecules with varying sizes."
   ]
  },
  {
   "cell_type": "code",
   "execution_count": 15,
   "id": "066dafa3-275f-47f2-8f95-fe9920831dfb",
   "metadata": {},
   "outputs": [],
   "source": [
    "import os, h5py\n",
    "\n",
    "molecules = [\n",
    " '020_Vitamin_C',\n",
    " '031_Inosine',\n",
    " '033_Bisphenol_A',\n",
    " '037_Mg_Porphin',\n",
    " '042_Penicillin_V',\n",
    " '045_Ochratoxin_A',\n",
    " '052_Cetirizine',\n",
    " '057_Tamoxifen',\n",
    " '066_Raffinose',\n",
    " '084_Sphingomyelin',\n",
    " '095_Azadirachtin',\n",
    " '113_Taxol'\n",
    "]\n",
    "\n",
    "scf_time = []\n",
    "grad_time = []\n",
    "for folder in molecules:\n",
    "    mol_name = folder\n",
    "    task_folder = os.path.join(output_dir, folder)\n",
    "    h5file = os.path.join(task_folder, mol_name+'_pyscf.h5')\n",
    "    if not os.path.exists(h5file):\n",
    "        continue\n",
    "    with h5py.File(h5file, 'r') as h5_file:\n",
    "        scf_time.append(h5_file['scf_time'][()])\n",
    "        grad_time.append(h5_file['grad_time'][()])\n",
    "\n"
   ]
  },
  {
   "cell_type": "code",
   "execution_count": 16,
   "id": "618d1e11-5355-456f-b3ce-ac47add20f7e",
   "metadata": {},
   "outputs": [
    {
     "name": "stdout",
     "output_type": "stream",
     "text": [
      "Defaulting to user installation because normal site-packages is not writeable\n",
      "Requirement already satisfied: matplotlib in /home/henryw7/.local/lib/python3.10/site-packages (3.9.2)\n",
      "Requirement already satisfied: python-dateutil>=2.7 in /home/henryw7/.local/lib/python3.10/site-packages (from matplotlib) (2.9.0.post0)\n",
      "Requirement already satisfied: numpy>=1.23 in /home/henryw7/.local/lib/python3.10/site-packages (from matplotlib) (2.1.1)\n",
      "Requirement already satisfied: contourpy>=1.0.1 in /home/henryw7/.local/lib/python3.10/site-packages (from matplotlib) (1.3.0)\n",
      "Requirement already satisfied: pyparsing>=2.3.1 in /usr/lib/python3/dist-packages (from matplotlib) (2.4.7)\n",
      "Requirement already satisfied: fonttools>=4.22.0 in /home/henryw7/.local/lib/python3.10/site-packages (from matplotlib) (4.54.1)\n",
      "Requirement already satisfied: kiwisolver>=1.3.1 in /home/henryw7/.local/lib/python3.10/site-packages (from matplotlib) (1.4.7)\n",
      "Requirement already satisfied: packaging>=20.0 in /home/henryw7/.local/lib/python3.10/site-packages (from matplotlib) (24.1)\n",
      "Requirement already satisfied: cycler>=0.10 in /home/henryw7/.local/lib/python3.10/site-packages (from matplotlib) (0.12.1)\n",
      "Requirement already satisfied: pillow>=8 in /home/henryw7/.local/lib/python3.10/site-packages (from matplotlib) (10.4.0)\n",
      "Requirement already satisfied: six>=1.5 in /usr/lib/python3/dist-packages (from python-dateutil>=2.7->matplotlib) (1.16.0)\n"
     ]
    }
   ],
   "source": [
    "!pip3 install matplotlib"
   ]
  },
  {
   "cell_type": "code",
   "execution_count": 17,
   "id": "597d61c5-2f77-476e-8289-b84a02eadc25",
   "metadata": {},
   "outputs": [
    {
     "data": {
      "image/png": "[encoded data removed]",
      "text/plain": [
       "<Figure size 640x480 with 1 Axes>"
      ]
     },
     "metadata": {},
     "output_type": "display_data"
    }
   ],
   "source": [
    "import matplotlib.pyplot as plt\n",
    "import numpy as np\n",
    "plt.plot(np.asarray(scf_time), label='SCF')\n",
    "plt.plot(np.asarray(grad_time), label='Gradient')\n",
    "plt.xticks(ticks=np.arange(len(scf_time)), labels=molecules, rotation=45)\n",
    "plt.ylabel('Wall Clock Time (s)')\n",
    "plt.legend()\n",
    "plt.yscale('log')"
   ]
  },
  {
   "cell_type": "markdown",
   "id": "a22b35c8-0351-4033-aa03-202f736a1205",
   "metadata": {},
   "source": [
    "# More control options"
   ]
  },
  {
   "cell_type": "markdown",
   "id": "03aa265a-0d26-404d-b98f-0101b916a6be",
   "metadata": {},
   "source": [
    "## Killing a job\n",
    "\n",
    "In the following four code cells we lunch two long tasks in one job, and then kill the job."
   ]
  },
  {
   "cell_type": "code",
   "execution_count": 18,
   "id": "9acde5b2-14de-4749-905d-3173e4ec4a48",
   "metadata": {},
   "outputs": [
    {
     "name": "stdout",
     "output_type": "stream",
     "text": [
      "job_id=183\n"
     ]
    }
   ],
   "source": [
    "from qcclient import QCJob, QCConfig\n",
    "\n",
    "input_dir = \"./dataset/organic/\"\n",
    "config = QCConfig(qc_job_type=\"sp\")\n",
    "config['with_hess'] = False # turn off hessian calculation for fast demo\n",
    "molecules = ['095_Azadirachtin.xyz', '113_Taxol.xyz']\n",
    "job = QCJob(\n",
    "    config=config,\n",
    "    input_dir=input_dir, \n",
    "    name='ISTCP2024-demo4',\n",
    "    molecules=molecules)\n",
    "job.submit(check=False)\n",
    "print(f\"job_id={job.job_id}\")"
   ]
  },
  {
   "cell_type": "code",
   "execution_count": 19,
   "id": "95955b30-aad5-42c3-a40d-adda35192b32",
   "metadata": {},
   "outputs": [
    {
     "name": "stdout",
     "output_type": "stream",
     "text": [
      "Status of the job, including all tasks: running\n",
      "Status of each task (each molecule): {'running': 2}\n",
      "\n"
     ]
    }
   ],
   "source": [
    "print(\"Status of the job, including all tasks: \" + job.client.get_job_status(job.job_id))\n",
    "print(\"Status of each task (each molecule): \" + str( job.client.get_job_summary(job.job_id) ))\n",
    "print()"
   ]
  },
  {
   "cell_type": "code",
   "execution_count": 20,
   "id": "dd61deeb-ca91-4a20-8bd4-e3f64420b888",
   "metadata": {},
   "outputs": [],
   "source": [
    "job.client.stop_job(job.job_id)"
   ]
  },
  {
   "cell_type": "code",
   "execution_count": 21,
   "id": "d9f76f5b-cd62-4011-afc1-e4f0f84d092c",
   "metadata": {},
   "outputs": [
    {
     "name": "stdout",
     "output_type": "stream",
     "text": [
      "Status of the job, including all tasks: stopped\n",
      "Status of each task (each molecule): {'stopped': 2}\n",
      "\n"
     ]
    }
   ],
   "source": [
    "print(\"Status of the job, including all tasks: \" + job.client.get_job_status(job.job_id))\n",
    "print(\"Status of each task (each molecule): \" + str( job.client.get_job_summary(job.job_id) ))\n",
    "print()"
   ]
  },
  {
   "cell_type": "code",
   "execution_count": 22,
   "id": "6e771ad2-89b1-4c6e-98b2-af88fb67ffbd",
   "metadata": {},
   "outputs": [],
   "source": [
    "# # Rerun failed job\n",
    "# job.client.retry_failed(job.job_id)"
   ]
  },
  {
   "cell_type": "code",
   "execution_count": null,
   "id": "439178d1-fa4e-4e4e-a91d-79f7e334eb8e",
   "metadata": {},
   "outputs": [],
   "source": []
  }
 ],
 "metadata": {
  "kernelspec": {
   "display_name": "Python 3 (ipykernel)",
   "language": "python",
   "name": "python3"
  },
  "language_info": {
   "codemirror_mode": {
    "name": "ipython",
    "version": 3
   },
   "file_extension": ".py",
   "mimetype": "text/x-python",
   "name": "python",
   "nbconvert_exporter": "python",
   "pygments_lexer": "ipython3",
   "version": "3.10.12"
  }
 },
 "nbformat": 4,
 "nbformat_minor": 5
}
